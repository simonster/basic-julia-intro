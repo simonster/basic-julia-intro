{
 "cells": [
  {
   "cell_type": "markdown",
   "metadata": {},
   "source": [
    "## Interfacing with Other Programming Languages\n",
    "\n",
    "The [PyCall](https://github.com/stevengj/PyCall.jl) package lets you import and use Python functions."
   ]
  },
  {
   "cell_type": "code",
   "execution_count": 14,
   "metadata": {
    "collapsed": false
   },
   "outputs": [
    {
     "name": "stdout",
     "output_type": "stream",
     "text": [
      "6/600 points mislabeled\n"
     ]
    }
   ],
   "source": [
    "using PyCall, PyPlot\n",
    "@pyimport sklearn.datasets as datasets\n",
    "@pyimport sklearn.naive_bayes as naive_bayes\n",
    "\n",
    "iris = datasets.load_iris()\n",
    "gnb = naive_bayes.GaussianNB()\n",
    "model = gnb[:fit](iris[\"data\"], iris[\"target\"])\n",
    "y_pred = model[:predict](iris[\"data\"])\n",
    "println(sum(iris[\"target\"] .!= y_pred), \"/\", length(iris[\"data\"]), \" points mislabeled\")"
   ]
  },
  {
   "cell_type": "markdown",
   "metadata": {},
   "source": [
    "The [MATLAB](https://github.com/JuliaLang/MATLAB.jl) package lets you call MATLAB functions."
   ]
  },
  {
   "cell_type": "code",
   "execution_count": 15,
   "metadata": {
    "collapsed": false
   },
   "outputs": [],
   "source": [
    "using MATLAB\n",
    "x = [1, 2, 3]\n",
    "y = [4, 5, 6]\n",
    "mat\"plot($x, $y)\""
   ]
  },
  {
   "cell_type": "markdown",
   "metadata": {},
   "source": [
    "## Getting Help\n",
    "\n",
    "Typing `?cmd` at the command line looks up `cmd` in Julia's built-in help."
   ]
  },
  {
   "cell_type": "code",
   "execution_count": 16,
   "metadata": {
    "collapsed": false
   },
   "outputs": [
    {
     "name": "stdout",
     "output_type": "stream",
     "text": [
      "search: print println print_joined print_escaped print_shortest print_unescaped\n",
      "\n",
      "Base.print(x)\n",
      "\n",
      "   Write (to the default output stream) a canonical (un-decorated)\n",
      "   text representation of a value if there is one, otherwise call\n",
      "   \"show\". The representation used by \"print\" includes minimal\n",
      "   formatting and tries to avoid Julia-specific details.\n"
     ]
    }
   ],
   "source": [
    "?print"
   ]
  },
  {
   "cell_type": "markdown",
   "metadata": {},
   "source": [
    "There's also extensive documentation on the Julia webiste. The [Manual](http://docs.julialang.org/en/release-0.3/#manual) describes all language features in greater detail than I have here, while the [Standard Library Reference](http://docs.julialang.org/en/release-0.3/#stdlib) documents all available functions.\n",
    "\n",
    "If these resources don't answer your question, you can:\n",
    "\n",
    "- Post on the [julia-users mailing list](https://groups.google.com/forum/?fromgroups=#!forum/julia-users).\n",
    "- Connect to the #julia IRC channel on FreeNode or via [the web](http://webchat.freenode.net/?channels=julia).\n",
    "- Report bugs on the [julia GitHub repository](https://github.com/JuliaLang/julia)."
   ]
  },
  {
   "cell_type": "markdown",
   "metadata": {},
   "source": [
    "## Some Useful Packages\n",
    "\n",
    "### Working with data\n",
    "- [DataFrames](https://github.com/JuliaStats/DataFrames.jl) - Structured data tables, like data frames in R and pandas, or MATLAB's new table.\n",
    "- [StatsBase](https://github.com/JuliaStats/StatsBase.jl) - Basic data analysis functionality (weighted statistics, count maps, empirical CDFs, autocorrelation, tied ranking, Spearman correlation, more)\n",
    "- [MAT](https://github.com/simonster/MAT.jl) - Read and write MATLAB files\n",
    "- [HDF5](https://github.com/timholy/HDF5.jl) - Read and write HDF5 files. Also includes JLD, which stores any Julia object as HDF5\n",
    "\n",
    "### Plotting\n",
    "- [PyPlot](https://github.com/stevengj/PyPlot.jl) - Plotting using matplotlib via Python\n",
    "- [Gadfly](https://github.com/dcjones/Gadfly.jl) - Pure Julia plotting inspired by R's ggplot2\n",
    "\n",
    "### Statistics, ML, etc.\n",
    "- [Distributions](https://github.com/JuliaStats/Distributions.jl) - Probability distributions and associated tools (sampling, MLE, etc.)\n",
    "- [GLM](https://github.com/JuliaStats/GLM.jl) - Linear and generalized linear models\n",
    "- [MultivariateStats](https://github.com/JuliaStats/MultivariateStats.jl) - Dimensionality reduction (PCA, ICA, LDA)\n",
    "- [Clustering](https://github.com/JuliaStats/Clustering.jl) - K-means, affinity propagation, DBSCAN\n",
    "\n",
    "### Optimization\n",
    "- [NLopt](https://github.com/JuliaOpt/NLopt.jl) - Interface to Steven G. Johnson's NLopt, which implements many global, gradient-free, and gradient-based optimization methods (List [here](http://ab-initio.mit.edu/wiki/index.php/NLopt_Algorithms))\n",
    "- [Optim](https://github.com/JuliaOpt/Optim.jl) - Pure Julia optimization algorithms (Newton, L-BFGS, conjugate gradient, Nelder Mead, more)\n",
    "- [JuMP](https://github.com/JuliaOpt/JuMP.jl) - Julia-based domain-specific language for solving linear, mixed-integer, conic, and general nonlinear programming problems just by writing the objective\n",
    "- [Convex](https://github.com/JuliaOpt/Convex.jl) - Julia-based domain-specific language for disciplined convex programming problems\n",
    "\n",
    "### DSP\n",
    "- [DSP](https://github.com/JuliaDSP/DSP.jl) - Periodograms, window functions, filter design\n",
    "- [Wavelets](https://github.com/JuliaDSP/Wavelets.jl) - Discrete wavelet transform\n",
    "\n",
    "### Others\n",
    "- [IJulia](https://github.com/JuliaLang/IJulia.jl) - IPython backend for Julia. Makes notebooks like this one\n",
    "- [Images](https://github.com/timholy/Images.jl) - Read, write, and manipulate image files\n",
    "- [DataStructures](https://github.com/JuliaLang/DataStructures.jl) - Default dicts, ordered dicts, (de)queues, binary heaps, tries, disjoint sets\n",
    "- [Graphs](https://github.com/JuliaLang/Graphs.jl) - Graph types and algorithms (Dijkstra's algorithm, minimum spanning trees, min cut, etc.)"
   ]
  },
  {
   "cell_type": "code",
   "execution_count": null,
   "metadata": {
    "collapsed": true
   },
   "outputs": [],
   "source": []
  }
 ],
 "metadata": {
  "kernelspec": {
   "display_name": "Julia 0.4.0-dev",
   "language": "julia",
   "name": "julia 0.4"
  },
  "language_info": {
   "name": "julia",
   "version": "0.4.0"
  }
 },
 "nbformat": 4,
 "nbformat_minor": 0
}
