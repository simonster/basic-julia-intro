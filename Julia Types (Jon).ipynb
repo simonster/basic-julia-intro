{
 "cells": [
  {
   "cell_type": "code",
   "execution_count": 1,
   "metadata": {
    "collapsed": false
   },
   "outputs": [],
   "source": [
    "module Types\n",
    "\n",
    "abstract Point\n",
    "\n",
    "immutable Polar <: Point\n",
    "    r::Float64\n",
    "    theta::Float64\n",
    "end\n",
    "\n",
    "immutable Cartesian <: Point\n",
    "    x::Float64\n",
    "    y::Float64\n",
    "end\n",
    "\n",
    "end"
   ]
  },
  {
   "cell_type": "code",
   "execution_count": 2,
   "metadata": {
    "collapsed": false
   },
   "outputs": [
    {
     "data": {
      "text/plain": [
       "magnitude (generic function with 1 method)"
      ]
     },
     "execution_count": 2,
     "metadata": {},
     "output_type": "execute_result"
    }
   ],
   "source": [
    "magnitude(point::Types.Polar) = point.r"
   ]
  },
  {
   "cell_type": "code",
   "execution_count": 3,
   "metadata": {
    "collapsed": false
   },
   "outputs": [
    {
     "data": {
      "text/plain": [
       "magnitude (generic function with 2 methods)"
      ]
     },
     "execution_count": 3,
     "metadata": {},
     "output_type": "execute_result"
    }
   ],
   "source": [
    "magnitude(point::Types.Cartesian) = sqrt(point.x^2 + point.y^2)"
   ]
  },
  {
   "cell_type": "code",
   "execution_count": 4,
   "metadata": {
    "collapsed": false
   },
   "outputs": [
    {
     "data": {
      "text/plain": [
       "phase (generic function with 1 method)"
      ]
     },
     "execution_count": 4,
     "metadata": {},
     "output_type": "execute_result"
    }
   ],
   "source": [
    "phase(point::Types.Polar) = point.theta"
   ]
  },
  {
   "cell_type": "code",
   "execution_count": 5,
   "metadata": {
    "collapsed": false
   },
   "outputs": [
    {
     "data": {
      "text/plain": [
       "phase (generic function with 2 methods)"
      ]
     },
     "execution_count": 5,
     "metadata": {},
     "output_type": "execute_result"
    }
   ],
   "source": [
    "phase(point::Types.Cartesian) = atan2(point.y, point.x)"
   ]
  },
  {
   "cell_type": "code",
   "execution_count": 6,
   "metadata": {
    "collapsed": false
   },
   "outputs": [
    {
     "data": {
      "text/plain": [
       "Types.Polar(3.0,1.5707963267948966)"
      ]
     },
     "execution_count": 6,
     "metadata": {},
     "output_type": "execute_result"
    }
   ],
   "source": [
    "p1=Types.Polar(3,pi/2)"
   ]
  },
  {
   "cell_type": "code",
   "execution_count": 7,
   "metadata": {
    "collapsed": false
   },
   "outputs": [
    {
     "data": {
      "text/plain": [
       "Types.Cartesian(1.0,2.0)"
      ]
     },
     "execution_count": 7,
     "metadata": {},
     "output_type": "execute_result"
    }
   ],
   "source": [
    "p2=Types.Cartesian(1,2)"
   ]
  },
  {
   "cell_type": "code",
   "execution_count": 32,
   "metadata": {
    "collapsed": false
   },
   "outputs": [
    {
     "data": {
      "text/plain": [
       "2.23606797749979"
      ]
     },
     "execution_count": 32,
     "metadata": {},
     "output_type": "execute_result"
    }
   ],
   "source": [
    "magnitude(p2)"
   ]
  },
  {
   "cell_type": "code",
   "execution_count": 8,
   "metadata": {
    "collapsed": false
   },
   "outputs": [
    {
     "data": {
      "text/html": [
       "magnitude(point::<b>Types.Polar</b>) at In[2]:1"
      ],
      "text/plain": [
       "magnitude(point::Types.Polar) at In[2]:1"
      ]
     },
     "execution_count": 8,
     "metadata": {},
     "output_type": "execute_result"
    }
   ],
   "source": [
    "which(magnitude, p1)"
   ]
  },
  {
   "cell_type": "code",
   "execution_count": 9,
   "metadata": {
    "collapsed": false
   },
   "outputs": [
    {
     "data": {
      "text/html": [
       "magnitude(point::<b>Types.Cartesian</b>) at In[3]:1"
      ],
      "text/plain": [
       "magnitude(point::Types.Cartesian) at In[3]:1"
      ]
     },
     "execution_count": 9,
     "metadata": {},
     "output_type": "execute_result"
    }
   ],
   "source": [
    "which(magnitude, p2)"
   ]
  },
  {
   "cell_type": "code",
   "execution_count": 10,
   "metadata": {
    "collapsed": false,
    "scrolled": false
   },
   "outputs": [
    {
     "data": {
      "text/plain": [
       "to_cartesian (generic function with 1 method)"
      ]
     },
     "execution_count": 10,
     "metadata": {},
     "output_type": "execute_result"
    }
   ],
   "source": [
    "to_cartesian(p::Types.Cartesian) = p"
   ]
  },
  {
   "cell_type": "code",
   "execution_count": 11,
   "metadata": {
    "collapsed": false
   },
   "outputs": [
    {
     "data": {
      "text/plain": [
       "to_cartesian (generic function with 2 methods)"
      ]
     },
     "execution_count": 11,
     "metadata": {},
     "output_type": "execute_result"
    }
   ],
   "source": [
    "to_cartesian(p::Types.Polar) = Types.Cartesian(p.r * cos(p.theta), p.r * sin(p.theta))"
   ]
  },
  {
   "cell_type": "code",
   "execution_count": 12,
   "metadata": {
    "collapsed": false
   },
   "outputs": [
    {
     "data": {
      "text/plain": [
       "to_polar (generic function with 1 method)"
      ]
     },
     "execution_count": 12,
     "metadata": {},
     "output_type": "execute_result"
    }
   ],
   "source": [
    "to_polar(p) = Types.Polar(magnitude(p), phase(p))"
   ]
  },
  {
   "cell_type": "code",
   "execution_count": 13,
   "metadata": {
    "collapsed": false
   },
   "outputs": [
    {
     "data": {
      "text/plain": [
       "- (generic function with 164 methods)"
      ]
     },
     "execution_count": 13,
     "metadata": {},
     "output_type": "execute_result"
    }
   ],
   "source": [
    "-(p1::Types.Cartesian, p2::Types.Cartesian) = Types.Cartesian(p2.x-p1.x, p2.y-p1.y)"
   ]
  },
  {
   "cell_type": "code",
   "execution_count": 14,
   "metadata": {
    "collapsed": false
   },
   "outputs": [
    {
     "data": {
      "text/plain": [
       "distance (generic function with 1 method)"
      ]
     },
     "execution_count": 14,
     "metadata": {},
     "output_type": "execute_result"
    }
   ],
   "source": [
    "distance(p1::Types.Point, p2::Types.Point) = magnitude(to_cartesian(p2)-to_cartesian(p1))"
   ]
  },
  {
   "cell_type": "code",
   "execution_count": 15,
   "metadata": {
    "collapsed": false
   },
   "outputs": [
    {
     "data": {
      "text/plain": [
       "1.414213562373095"
      ]
     },
     "execution_count": 15,
     "metadata": {},
     "output_type": "execute_result"
    }
   ],
   "source": [
    "distance(p2, p1)"
   ]
  },
  {
   "cell_type": "code",
   "execution_count": 16,
   "metadata": {
    "collapsed": false
   },
   "outputs": [
    {
     "data": {
      "text/plain": [
       "distance (generic function with 2 methods)"
      ]
     },
     "execution_count": 16,
     "metadata": {},
     "output_type": "execute_result"
    }
   ],
   "source": [
    "function distance(p1::Types.Polar, p2::Types.Polar)\n",
    "    sqrt(p1.r^2+p2.r^2-2p1.r*p2.r*cos(p1.theta-p2.theta))\n",
    "end"
   ]
  },
  {
   "cell_type": "code",
   "execution_count": 17,
   "metadata": {
    "collapsed": false
   },
   "outputs": [
    {
     "data": {
      "text/plain": [
       "0.0"
      ]
     },
     "execution_count": 17,
     "metadata": {},
     "output_type": "execute_result"
    }
   ],
   "source": [
    "distance(p2,p2)"
   ]
  },
  {
   "cell_type": "code",
   "execution_count": 18,
   "metadata": {
    "collapsed": false
   },
   "outputs": [
    {
     "data": {
      "text/plain": [
       "Types.Polar(2.23606797749979,1.1071487177940904)"
      ]
     },
     "execution_count": 18,
     "metadata": {},
     "output_type": "execute_result"
    }
   ],
   "source": [
    "to_polar(p2)"
   ]
  },
  {
   "cell_type": "code",
   "execution_count": 19,
   "metadata": {
    "collapsed": false
   },
   "outputs": [
    {
     "data": {
      "text/plain": [
       "show (generic function with 94 methods)"
      ]
     },
     "execution_count": 19,
     "metadata": {},
     "output_type": "execute_result"
    }
   ],
   "source": [
    "function Base.show(io::IO, p::Types.Polar)\n",
    "    print(io, \"(r=\", p.r, \", ϕ=\", p.theta, \")\")\n",
    "end"
   ]
  },
  {
   "cell_type": "code",
   "execution_count": 33,
   "metadata": {
    "collapsed": false
   },
   "outputs": [
    {
     "data": {
      "text/plain": [
       "(r=3.0, ϕ=1.5707963267948966)"
      ]
     },
     "execution_count": 33,
     "metadata": {},
     "output_type": "execute_result"
    }
   ],
   "source": [
    "p1"
   ]
  },
  {
   "cell_type": "code",
   "execution_count": 21,
   "metadata": {
    "collapsed": false
   },
   "outputs": [
    {
     "data": {
      "text/plain": [
       "show (generic function with 95 methods)"
      ]
     },
     "execution_count": 21,
     "metadata": {},
     "output_type": "execute_result"
    }
   ],
   "source": [
    "Base.show(io::IO, p::Types.Cartesian) = print(io, \"($(p.x), $(p.y))\")\n",
    "    "
   ]
  },
  {
   "cell_type": "code",
   "execution_count": 22,
   "metadata": {
    "collapsed": false
   },
   "outputs": [
    {
     "data": {
      "text/plain": [
       "(1.0, 2.0)"
      ]
     },
     "execution_count": 22,
     "metadata": {},
     "output_type": "execute_result"
    }
   ],
   "source": [
    "p2"
   ]
  },
  {
   "cell_type": "code",
   "execution_count": 23,
   "metadata": {
    "collapsed": false
   },
   "outputs": [
    {
     "data": {
      "text/html": [
       "95 methods for generic function <b>show</b>:<ul><li> show(io::<b>IO</b>,r::<b>UnitRange{T<:Real}</b>) at <a href=\"https://github.com/JuliaLang/julia/tree/11ca99339328d4be8c29ae795198421c838927b5/base/range.jl#L306\" target=\"_blank\">range.jl:306</a><li> show(io::<b>IO</b>,r::<b>Range{T}</b>) at <a href=\"https://github.com/JuliaLang/julia/tree/11ca99339328d4be8c29ae795198421c838927b5/base/range.jl#L304\" target=\"_blank\">range.jl:304</a><li> show(io::<b>IO</b>,tv::<b>TypeVar</b>) at <a href=\"https://github.com/JuliaLang/julia/tree/11ca99339328d4be8c29ae795198421c838927b5/base/expr.jl#L47\" target=\"_blank\">expr.jl:47</a><li> show(io::<b>IO</b>,z::<b>Complex{T<:Real}</b>) at <a href=\"https://github.com/JuliaLang/julia/tree/11ca99339328d4be8c29ae795198421c838927b5/base/complex.jl#L64\" target=\"_blank\">complex.jl:64</a><li> show(io::<b>IO</b>,x::<b>Rational{T<:Integer}</b>) at <a href=\"https://github.com/JuliaLang/julia/tree/11ca99339328d4be8c29ae795198421c838927b5/base/rational.jl#L53\" target=\"_blank\">rational.jl:53</a><li> show(io::<b>IO</b>,s::<b>IntSet</b>) at <a href=\"https://github.com/JuliaLang/julia/tree/11ca99339328d4be8c29ae795198421c838927b5/base/intset.jl#L14\" target=\"_blank\">intset.jl:14</a><li> show(io::<b>IO</b>,::<b>Base.EnvHash</b>) at <a href=\"https://github.com/JuliaLang/julia/tree/11ca99339328d4be8c29ae795198421c838927b5/base/env.jl#L166\" target=\"_blank\">env.jl:166</a><li> show<i>{K,V}</i>(io::<b>IO</b>,t::<b>Associative{K,V}</b>) at <a href=\"https://github.com/JuliaLang/julia/tree/11ca99339328d4be8c29ae795198421c838927b5/base/dict.jl#L20\" target=\"_blank\">dict.jl:20</a><li> show(io::<b>IO</b>,iter::<b>Union(Base.ValueIterator{T<:Associative{K,V}},Base.KeyIterator{T<:Associative{K,V}})</b>) at <a href=\"https://github.com/JuliaLang/julia/tree/11ca99339328d4be8c29ae795198421c838927b5/base/dict.jl#L120\" target=\"_blank\">dict.jl:120</a><li> show(io::<b>IO</b>,s::<b>Set{T}</b>) at <a href=\"https://github.com/JuliaLang/julia/tree/11ca99339328d4be8c29ae795198421c838927b5/base/set.jl#L14\" target=\"_blank\">set.jl:14</a><li> show(io::<b>IO</b>,c::<b>Char</b>) at <a href=\"https://github.com/JuliaLang/julia/tree/11ca99339328d4be8c29ae795198421c838927b5/base/char.jl#L56\" target=\"_blank\">char.jl:56</a><li> show(io::<b>IO</b>,b::<b>IOBuffer</b>) at <a href=\"https://github.com/JuliaLang/julia/tree/11ca99339328d4be8c29ae795198421c838927b5/base/iobuffer.jl#L27\" target=\"_blank\">iobuffer.jl:27</a><li> show(io::<b>IO</b>,s::<b>AbstractString</b>) at <a href=\"https://github.com/JuliaLang/julia/tree/11ca99339328d4be8c29ae795198421c838927b5/base/string.jl#L71\" target=\"_blank\">string.jl:71</a><li> show<i>{S}</i>(io::<b>IO</b>,g::<b>Base.UTF8proc.GraphemeIterator{S}</b>) at <a href=\"https://github.com/JuliaLang/julia/tree/11ca99339328d4be8c29ae795198421c838927b5/base/utf8proc.jl#L224\" target=\"_blank\">utf8proc.jl:224</a><li> show(io::<b>IO</b>,re::<b>Regex</b>) at <a href=\"https://github.com/JuliaLang/julia/tree/11ca99339328d4be8c29ae795198421c838927b5/base/regex.jl#L60\" target=\"_blank\">regex.jl:60</a><li> show(io::<b>IO</b>,m::<b>RegexMatch</b>) at <a href=\"https://github.com/JuliaLang/julia/tree/11ca99339328d4be8c29ae795198421c838927b5/base/regex.jl#L88\" target=\"_blank\">regex.jl:88</a><li> show(io::<b>IO</b>,s::<b>IOStream</b>) at <a href=\"https://github.com/JuliaLang/julia/tree/11ca99339328d4be8c29ae795198421c838927b5/base/iostream.jl#L26\" target=\"_blank\">iostream.jl:26</a><li> show<i>{T}</i>(io::<b>IO</b>,x::<b>Nullable{T}</b>) at <a href=\"https://github.com/JuliaLang/julia/tree/11ca99339328d4be8c29ae795198421c838927b5/base/nullable.jl#L19\" target=\"_blank\">nullable.jl:19</a><li> show(io::<b>IO</b>,t::<b>Task</b>) at <a href=\"https://github.com/JuliaLang/julia/tree/11ca99339328d4be8c29ae795198421c838927b5/base/task.jl#L3\" target=\"_blank\">task.jl:3</a><li> show(io::<b>IO</b>,f::<b>Function</b>) at <a href=\"https://github.com/JuliaLang/julia/tree/11ca99339328d4be8c29ae795198421c838927b5/base/show.jl#L56\" target=\"_blank\">show.jl:56</a><li> show(io::<b>IO</b>,x::<b>IntrinsicFunction</b>) at <a href=\"https://github.com/JuliaLang/julia/tree/11ca99339328d4be8c29ae795198421c838927b5/base/show.jl#L66\" target=\"_blank\">show.jl:66</a><li> show(io::<b>IO</b>,x::<b>UnionType</b>) at <a href=\"https://github.com/JuliaLang/julia/tree/11ca99339328d4be8c29ae795198421c838927b5/base/show.jl#L69\" target=\"_blank\">show.jl:69</a><li> show(io::<b>IO</b>,x::<b>TypeConstructor</b>) at <a href=\"https://github.com/JuliaLang/julia/tree/11ca99339328d4be8c29ae795198421c838927b5/base/show.jl#L71\" target=\"_blank\">show.jl:71</a><li> show(io::<b>IO</b>,x::<b>DataType</b>) at <a href=\"https://github.com/JuliaLang/julia/tree/11ca99339328d4be8c29ae795198421c838927b5/base/show.jl#L74\" target=\"_blank\">show.jl:74</a><li> show(io::<b>IO</b>,tn::<b>TypeName</b>) at <a href=\"https://github.com/JuliaLang/julia/tree/11ca99339328d4be8c29ae795198421c838927b5/base/show.jl#L101\" target=\"_blank\">show.jl:101</a><li> show(io::<b>IO</b>,::<b>Void</b>) at <a href=\"https://github.com/JuliaLang/julia/tree/11ca99339328d4be8c29ae795198421c838927b5/base/show.jl#L110\" target=\"_blank\">show.jl:110</a><li> show(io::<b>IO</b>,b::<b>Bool</b>) at <a href=\"https://github.com/JuliaLang/julia/tree/11ca99339328d4be8c29ae795198421c838927b5/base/show.jl#L111\" target=\"_blank\">show.jl:111</a><li> show(io::<b>IO</b>,n::<b>Signed</b>) at <a href=\"https://github.com/JuliaLang/julia/tree/11ca99339328d4be8c29ae795198421c838927b5/base/show.jl#L112\" target=\"_blank\">show.jl:112</a><li> show(io::<b>IO</b>,n::<b>Unsigned</b>) at <a href=\"https://github.com/JuliaLang/julia/tree/11ca99339328d4be8c29ae795198421c838927b5/base/show.jl#L113\" target=\"_blank\">show.jl:113</a><li> show<i>{T}</i>(io::<b>IO</b>,p::<b>Ptr{T}</b>) at <a href=\"https://github.com/JuliaLang/julia/tree/11ca99339328d4be8c29ae795198421c838927b5/base/show.jl#L116\" target=\"_blank\">show.jl:116</a><li> show(io::<b>IO</b>,p::<b>Pair{A,B}</b>) at <a href=\"https://github.com/JuliaLang/julia/tree/11ca99339328d4be8c29ae795198421c838927b5/base/show.jl#L119\" target=\"_blank\">show.jl:119</a><li> show(io::<b>IO</b>,m::<b>Module</b>) at <a href=\"https://github.com/JuliaLang/julia/tree/11ca99339328d4be8c29ae795198421c838927b5/base/show.jl#L125\" target=\"_blank\">show.jl:125</a><li> show(io::<b>IO</b>,l::<b>LambdaStaticData</b>) at <a href=\"https://github.com/JuliaLang/julia/tree/11ca99339328d4be8c29ae795198421c838927b5/base/show.jl#L133\" target=\"_blank\">show.jl:133</a><li> show(io::<b>IO</b>,t::<b>(Any...,)</b>) at <a href=\"https://github.com/JuliaLang/julia/tree/11ca99339328d4be8c29ae795198421c838927b5/base/show.jl#L206\" target=\"_blank\">show.jl:206</a><li> show(io::<b>IO</b>,s::<b>Symbol</b>) at <a href=\"https://github.com/JuliaLang/julia/tree/11ca99339328d4be8c29ae795198421c838927b5/base/show.jl#L208\" target=\"_blank\">show.jl:208</a><li> show(io::<b>IO</b>,ex::<b>Union(TopNode,LineNumberNode,QuoteNode,GotoNode,LabelNode,SymbolNode,Expr)</b>) at <a href=\"https://github.com/JuliaLang/julia/tree/11ca99339328d4be8c29ae795198421c838927b5/base/show.jl#L237\" target=\"_blank\">show.jl:237</a><li> show(io::<b>IO</b>,M::<b>Base.LinAlg.Bidiagonal{T}</b>) at <a href=\"https://github.com/JuliaLang/julia/tree/11ca99339328d4be8c29ae795198421c838927b5/base/linalg/bidiag.jl#L70\" target=\"_blank\">linalg/bidiag.jl:70</a><li> show(io::<b>IO</b>,v::<b>AbstractArray{T,1}</b>) at <a href=\"https://github.com/JuliaLang/julia/tree/11ca99339328d4be8c29ae795198421c838927b5/base/show.jl#L1256\" target=\"_blank\">show.jl:1256</a><li> show(io::<b>IO</b>,X::<b>AbstractArray{T,N}</b>) at <a href=\"https://github.com/JuliaLang/julia/tree/11ca99339328d4be8c29ae795198421c838927b5/base/show.jl#L1195\" target=\"_blank\">show.jl:1195</a><li> show(io::<b>IO</b>,stream::<b>Base.Pipe</b>) at <a href=\"https://github.com/JuliaLang/julia/tree/11ca99339328d4be8c29ae795198421c838927b5/base/stream.jl#L168\" target=\"_blank\">stream.jl:168</a><li> show(io::<b>IO</b>,stream::<b>Base.PipeServer</b>) at <a href=\"https://github.com/JuliaLang/julia/tree/11ca99339328d4be8c29ae795198421c838927b5/base/stream.jl#L170\" target=\"_blank\">stream.jl:170</a><li> show(io::<b>IO</b>,stream::<b>Base.TTY</b>) at <a href=\"https://github.com/JuliaLang/julia/tree/11ca99339328d4be8c29ae795198421c838927b5/base/stream.jl#L220\" target=\"_blank\">stream.jl:220</a><li> show(io::<b>IO</b>,e::<b>Base.UVError</b>) at <a href=\"https://github.com/JuliaLang/julia/tree/11ca99339328d4be8c29ae795198421c838927b5/base/stream.jl#L839\" target=\"_blank\">stream.jl:839</a><li> show(io::<b>IO</b>,s::<b>BufferStream</b>) at <a href=\"https://github.com/JuliaLang/julia/tree/11ca99339328d4be8c29ae795198421c838927b5/base/stream.jl#L994\" target=\"_blank\">stream.jl:994</a><li> show(io::<b>IO</b>,ip::<b>IPv4</b>) at <a href=\"https://github.com/JuliaLang/julia/tree/11ca99339328d4be8c29ae795198421c838927b5/base/socket.jl#L34\" target=\"_blank\">socket.jl:34</a><li> show(io::<b>IO</b>,ip::<b>IPv6</b>) at <a href=\"https://github.com/JuliaLang/julia/tree/11ca99339328d4be8c29ae795198421c838927b5/base/socket.jl#L88\" target=\"_blank\">socket.jl:88</a><li> show(io::<b>IO</b>,sock::<b>TCPSocket</b>) at <a href=\"https://github.com/JuliaLang/julia/tree/11ca99339328d4be8c29ae795198421c838927b5/base/socket.jl#L332\" target=\"_blank\">socket.jl:332</a><li> show(io::<b>IO</b>,sock::<b>Base.TCPServer</b>) at <a href=\"https://github.com/JuliaLang/julia/tree/11ca99339328d4be8c29ae795198421c838927b5/base/socket.jl#L335\" target=\"_blank\">socket.jl:335</a><li> show(io::<b>IO</b>,st::<b>StatStruct</b>) at <a href=\"https://github.com/JuliaLang/julia/tree/11ca99339328d4be8c29ae795198421c838927b5/base/stat.jl#L31\" target=\"_blank\">stat.jl:31</a><li> show(io::<b>IO</b>,cmd::<b>Cmd</b>) at <a href=\"https://github.com/JuliaLang/julia/tree/11ca99339328d4be8c29ae795198421c838927b5/base/process.jl#L33\" target=\"_blank\">process.jl:33</a><li> show(io::<b>IO</b>,cmds::<b>Union(Base.OrCmds,Base.ErrOrCmds)</b>) at <a href=\"https://github.com/JuliaLang/julia/tree/11ca99339328d4be8c29ae795198421c838927b5/base/process.jl#L51\" target=\"_blank\">process.jl:51</a><li> show(io::<b>IO</b>,cmds::<b>Base.AndCmds</b>) at <a href=\"https://github.com/JuliaLang/julia/tree/11ca99339328d4be8c29ae795198421c838927b5/base/process.jl#L60\" target=\"_blank\">process.jl:60</a><li> show(io::<b>IO</b>,cr::<b>Base.CmdRedirect</b>) at <a href=\"https://github.com/JuliaLang/julia/tree/11ca99339328d4be8c29ae795198421c838927b5/base/process.jl#L101\" target=\"_blank\">process.jl:101</a><li> show(io::<b>IO</b>,p::<b>Base.Process</b>) at <a href=\"https://github.com/JuliaLang/julia/tree/11ca99339328d4be8c29ae795198421c838927b5/base/process.jl#L601\" target=\"_blank\">process.jl:601</a><li> show<i>{mime}</i>(io::<b>IO</b>,::<b>Base.Multimedia.MIME{mime}</b>) at <a href=\"https://github.com/JuliaLang/julia/tree/11ca99339328d4be8c29ae795198421c838927b5/base/multimedia.jl#L16\" target=\"_blank\">multimedia.jl:16</a><li> show(io::<b>IO</b>,b::<b>Base.MPFR.BigFloat</b>) at <a href=\"https://github.com/JuliaLang/julia/tree/11ca99339328d4be8c29ae795198421c838927b5/base/mpfr.jl#L787\" target=\"_blank\">mpfr.jl:787</a><li> show(io::<b>IO</b>,x::<b>FloatingPoint</b>) at <a href=\"https://github.com/JuliaLang/julia/tree/11ca99339328d4be8c29ae795198421c838927b5/base/grisu.jl#L113\" target=\"_blank\">grisu.jl:113</a><li> show(io::<b>IO</b>,m::<b>Method</b>) at <a href=\"https://github.com/JuliaLang/julia/tree/11ca99339328d4be8c29ae795198421c838927b5/base/methodshow.jl#L35\" target=\"_blank\">methodshow.jl:35</a><li> show(io::<b>IO</b>,mt::<b>MethodTable</b>) at <a href=\"https://github.com/JuliaLang/julia/tree/11ca99339328d4be8c29ae795198421c838927b5/base/methodshow.jl#L74\" target=\"_blank\">methodshow.jl:74</a><li> show(io::<b>IO</b>,v::<b>VersionNumber</b>) at <a href=\"https://github.com/JuliaLang/julia/tree/11ca99339328d4be8c29ae795198421c838927b5/base/version.jl#L57\" target=\"_blank\">version.jl:57</a><li> show(io::<b>IO</b>,x::<b>Base.GMP.BigInt</b>) at <a href=\"https://github.com/JuliaLang/julia/tree/11ca99339328d4be8c29ae795198421c838927b5/base/gmp.jl#L497\" target=\"_blank\">gmp.jl:497</a><li> show(io::<b>IO</b>,u::<b>Base.Random.UUID</b>) at <a href=\"https://github.com/JuliaLang/julia/tree/11ca99339328d4be8c29ae795198421c838927b5/base/random.jl#L1198\" target=\"_blank\">random.jl:1198</a><li> show<i>{#1556#E<:Base.WorkerState}</i>(::<b>IO</b>,::<b>#1556#E<:Base.WorkerState</b>) at <a href=\"https://github.com/JuliaLang/julia/tree/11ca99339328d4be8c29ae795198421c838927b5/base/Enums.jl#L111\" target=\"_blank\">Enums.jl:111</a><li> show(io::<b>IO</b>,manager::<b>Base.SSHManager</b>) at <a href=\"https://github.com/JuliaLang/julia/tree/11ca99339328d4be8c29ae795198421c838927b5/base/managers.jl#L77\" target=\"_blank\">managers.jl:77</a><li> show(io::<b>IO</b>,manager::<b>Base.LocalManager</b>) at <a href=\"https://github.com/JuliaLang/julia/tree/11ca99339328d4be8c29ae795198421c838927b5/base/managers.jl#L178\" target=\"_blank\">managers.jl:178</a><li> show(io::<b>IO</b>,x::<b>Base.LineEdit.Prompt</b>) at <a href=\"https://github.com/JuliaLang/julia/tree/11ca99339328d4be8c29ae795198421c838927b5/base/LineEdit.jl#L47\" target=\"_blank\">LineEdit.jl:47</a><li> show<i>{T,S<:AbstractArray{T,2},UpLo}</i>(io::<b>IO</b>,C::<b>Base.LinAlg.Cholesky{T,S<:AbstractArray{T,2},UpLo}</b>) at <a href=\"https://github.com/JuliaLang/julia/tree/11ca99339328d4be8c29ae795198421c838927b5/base/linalg/cholesky.jl#L190\" target=\"_blank\">linalg/cholesky.jl:190</a><li> show(io::<b>IO</b>,J::<b>Base.LinAlg.UniformScaling{T<:Number}</b>) at <a href=\"https://github.com/JuliaLang/julia/tree/11ca99339328d4be8c29ae795198421c838927b5/base/linalg/uniformscaling.jl#L14\" target=\"_blank\">linalg/uniformscaling.jl:14</a><li> show(io::<b>IO</b>,f::<b>Base.SparseMatrix.UMFPACK.UmfpackLU{Tv<:Union(Complex{Float64},Float64),Ti<:Union(Int64,Int32)}</b>) at <a href=\"https://github.com/JuliaLang/julia/tree/11ca99339328d4be8c29ae795198421c838927b5/base/sparse/umfpack.jl#L117\" target=\"_blank\">sparse/umfpack.jl:117</a><li> show(io::<b>IO</b>,F::<b>Base.SparseMatrix.CHOLMOD.Factor{Tv,Ti}</b>) at <a href=\"https://github.com/JuliaLang/julia/tree/11ca99339328d4be8c29ae795198421c838927b5/base/sparse/cholmod.jl#L888\" target=\"_blank\">sparse/cholmod.jl:888</a><li> show(io::<b>IO</b>,info::<b>Base.Sys.CPUinfo</b>) at <a href=\"https://github.com/JuliaLang/julia/tree/11ca99339328d4be8c29ae795198421c838927b5/base/sysinfo.jl#L54\" target=\"_blank\">sysinfo.jl:54</a><li> show(io::<b>IO</b>,info::<b>Base.Sys.CPUinfo</b>,header::<b>Bool</b>) at <a href=\"https://github.com/JuliaLang/julia/tree/11ca99339328d4be8c29ae795198421c838927b5/base/sysinfo.jl#L54\" target=\"_blank\">sysinfo.jl:54</a><li> show(io::<b>IO</b>,info::<b>Base.Sys.CPUinfo</b>,header::<b>Bool</b>,prefix::<b>AbstractString</b>) at <a href=\"https://github.com/JuliaLang/julia/tree/11ca99339328d4be8c29ae795198421c838927b5/base/sysinfo.jl#L54\" target=\"_blank\">sysinfo.jl:54</a><li> show<i>{sym}</i>(io::<b>IO</b>,x::<b>MathConst{sym}</b>) at <a href=\"https://github.com/JuliaLang/julia/tree/11ca99339328d4be8c29ae795198421c838927b5/base/constants.jl#L5\" target=\"_blank\">constants.jl:5</a><li> show(io::<b>IO</b>,i::<b>Base.Pkg.Types.VersionInterval</b>) at <a href=\"https://github.com/JuliaLang/julia/tree/11ca99339328d4be8c29ae795198421c838927b5/base/pkg/types.jl#L13\" target=\"_blank\">pkg/types.jl:13</a><li> show(io::<b>IO</b>,s::<b>Base.Pkg.Types.VersionSet</b>) at <a href=\"https://github.com/JuliaLang/julia/tree/11ca99339328d4be8c29ae795198421c838927b5/base/pkg/types.jl#L36\" target=\"_blank\">pkg/types.jl:36</a><li> show(io::<b>IO</b>,a::<b>Base.Pkg.Types.Available</b>) at <a href=\"https://github.com/JuliaLang/julia/tree/11ca99339328d4be8c29ae795198421c838927b5/base/pkg/types.jl#L69\" target=\"_blank\">pkg/types.jl:69</a><li> show(io::<b>IO</b>,f::<b>Base.Pkg.Types.Fixed</b>) at <a href=\"https://github.com/JuliaLang/julia/tree/11ca99339328d4be8c29ae795198421c838927b5/base/pkg/types.jl#L81\" target=\"_blank\">pkg/types.jl:81</a><li> show(io::<b>IO</b>,x::<b>Base.Dates.Period</b>) at <a href=\"https://github.com/JuliaLang/julia/tree/11ca99339328d4be8c29ae795198421c838927b5/base/dates/periods.jl#L24\" target=\"_blank\">dates/periods.jl:24</a><li> show(io::<b>IO</b>,x::<b>Base.Dates.CompoundPeriod</b>) at <a href=\"https://github.com/JuliaLang/julia/tree/11ca99339328d4be8c29ae795198421c838927b5/base/dates/periods.jl#L192\" target=\"_blank\">dates/periods.jl:192</a><li> show(io::<b>IO</b>,df::<b>Base.Dates.DateFunction</b>) at <a href=\"https://github.com/JuliaLang/julia/tree/11ca99339328d4be8c29ae795198421c838927b5/base/dates/adjusters.jl#L73\" target=\"_blank\">dates/adjusters.jl:73</a><li> show(io::<b>IO</b>,x::<b>Base.Dates.DateTime</b>) at <a href=\"https://github.com/JuliaLang/julia/tree/11ca99339328d4be8c29ae795198421c838927b5/base/dates/io.jl#L14\" target=\"_blank\">dates/io.jl:14</a><li> show(io::<b>IO</b>,x::<b>Base.Dates.Date</b>) at <a href=\"https://github.com/JuliaLang/julia/tree/11ca99339328d4be8c29ae795198421c838927b5/base/dates/io.jl#L22\" target=\"_blank\">dates/io.jl:22</a><li> show(io::<b>IO</b>,blk::<b>DataStructures.DequeBlock{T}</b>) at <a href=\"file:///Users/simon/.julia/v0.4/DataStructures/src/deque.jl\" target=\"_blank\">/Users/simon/.julia/v0.4/DataStructures/src/deque.jl:46</a><li> show(io::<b>IO</b>,q::<b>DataStructures.Deque{T}</b>) at <a href=\"file:///Users/simon/.julia/v0.4/DataStructures/src/deque.jl\" target=\"_blank\">/Users/simon/.julia/v0.4/DataStructures/src/deque.jl:139</a><li> show(io::<b>IO</b>,h::<b>DataStructures.MutableBinaryHeap{VT,Comp}</b>) at <a href=\"file:///Users/simon/.julia/v0.4/DataStructures/src/heaps/mutable_binary_heap.jl\" target=\"_blank\">/Users/simon/.julia/v0.4/DataStructures/src/heaps/mutable_binary_heap.jl:177</a><li> show(io::<b>IO</b>,s::<b>DataStructures.OrderedSet{T}</b>) at <a href=\"file:///Users/simon/.julia/v0.4/DataStructures/src/orderedset.jl\" target=\"_blank\">/Users/simon/.julia/v0.4/DataStructures/src/orderedset.jl:18</a><li> show<i>{T}</i>(io::<b>IO</b>,l::<b>DataStructures.LinkedList{T}</b>) at <a href=\"file:///Users/simon/.julia/v0.4/DataStructures/src/list.jl\" target=\"_blank\">/Users/simon/.julia/v0.4/DataStructures/src/list.jl:20</a><li> show<i>{T<:Nettle.HashAlgorithm}</i>(io::<b>IO</b>,::<b>Nettle.HashState{T<:Nettle.HashAlgorithm}</b>) at <a href=\"file:///Users/simon/.julia/v0.4/Nettle/src/hash.jl\" target=\"_blank\">/Users/simon/.julia/v0.4/Nettle/src/hash.jl:104</a><li> show<i>{T<:Nettle.HashAlgorithm}</i>(io::<b>IO</b>,::<b>Nettle.HMACState{T<:Nettle.HashAlgorithm}</b>) at <a href=\"file:///Users/simon/.julia/v0.4/Nettle/src/hmac.jl\" target=\"_blank\">/Users/simon/.julia/v0.4/Nettle/src/hmac.jl:16</a><li> show(io::<b>IO</b>,msg::<b>IJulia.Msg</b>) at <a href=\"file:///Users/simon/.julia/v0.4/IJulia/src/msg.jl\" target=\"_blank\">/Users/simon/.julia/v0.4/IJulia/src/msg.jl:40</a><li> show(io::<b>IO</b>,p::<b>Types.Polar</b>) at In[19]:2<li> show(io::<b>IO</b>,p::<b>Types.Cartesian</b>) at In[21]:1<li> show(io::<b>IO</b>,x::<b>ANY</b>) at <a href=\"https://github.com/JuliaLang/julia/tree/11ca99339328d4be8c29ae795198421c838927b5/base/show.jl#L6\" target=\"_blank\">show.jl:6</a><li> show(x) at <a href=\"https://github.com/JuliaLang/julia/tree/11ca99339328d4be8c29ae795198421c838927b5/base/show.jl#L1\" target=\"_blank\">show.jl:1</a></ul>"
      ],
      "text/plain": [
       "# 95 methods for generic function \"show\":\n",
       "show(io::IO,r::UnitRange{T<:Real}) at range.jl:306\n",
       "show(io::IO,r::Range{T}) at range.jl:304\n",
       "show(io::IO,tv::TypeVar) at expr.jl:47\n",
       "show(io::IO,z::Complex{T<:Real}) at complex.jl:64\n",
       "show(io::IO,x::Rational{T<:Integer}) at rational.jl:53\n",
       "show(io::IO,s::IntSet) at intset.jl:14\n",
       "show(io::IO,::Base.EnvHash) at env.jl:166\n",
       "show{K,V}(io::IO,t::Associative{K,V}) at dict.jl:20\n",
       "show(io::IO,iter::Union(Base.ValueIterator{T<:Associative{K,V}},Base.KeyIterator{T<:Associative{K,V}})) at dict.jl:120\n",
       "show(io::IO,s::Set{T}) at set.jl:14\n",
       "show(io::IO,c::Char) at char.jl:56\n",
       "show(io::IO,b::IOBuffer) at iobuffer.jl:27\n",
       "show(io::IO,s::AbstractString) at string.jl:71\n",
       "show{S}(io::IO,g::Base.UTF8proc.GraphemeIterator{S}) at utf8proc.jl:224\n",
       "show(io::IO,re::Regex) at regex.jl:60\n",
       "show(io::IO,m::RegexMatch) at regex.jl:88\n",
       "show(io::IO,s::IOStream) at iostream.jl:26\n",
       "show{T}(io::IO,x::Nullable{T}) at nullable.jl:19\n",
       "show(io::IO,t::Task) at task.jl:3\n",
       "show(io::IO,f::Function) at show.jl:56\n",
       "show(io::IO,x::IntrinsicFunction) at show.jl:66\n",
       "show(io::IO,x::UnionType) at show.jl:69\n",
       "show(io::IO,x::TypeConstructor) at show.jl:71\n",
       "show(io::IO,x::DataType) at show.jl:74\n",
       "show(io::IO,tn::TypeName) at show.jl:101\n",
       "show(io::IO,::Void) at show.jl:110\n",
       "show(io::IO,b::Bool) at show.jl:111\n",
       "show(io::IO,n::Signed) at show.jl:112\n",
       "show(io::IO,n::Unsigned) at show.jl:113\n",
       "show{T}(io::IO,p::Ptr{T}) at show.jl:116\n",
       "show(io::IO,p::Pair{A,B}) at show.jl:119\n",
       "show(io::IO,m::Module) at show.jl:125\n",
       "show(io::IO,l::LambdaStaticData) at show.jl:133\n",
       "show(io::IO,t::(Any...,)) at show.jl:206\n",
       "show(io::IO,s::Symbol) at show.jl:208\n",
       "show(io::IO,ex::Union(TopNode,LineNumberNode,QuoteNode,GotoNode,LabelNode,SymbolNode,Expr)) at show.jl:237\n",
       "show(io::IO,M::Base.LinAlg.Bidiagonal{T}) at linalg/bidiag.jl:70\n",
       "show(io::IO,v::AbstractArray{T,1}) at show.jl:1256\n",
       "show(io::IO,X::AbstractArray{T,N}) at show.jl:1195\n",
       "show(io::IO,stream::Base.Pipe) at stream.jl:168\n",
       "show(io::IO,stream::Base.PipeServer) at stream.jl:170\n",
       "show(io::IO,stream::Base.TTY) at stream.jl:220\n",
       "show(io::IO,e::Base.UVError) at stream.jl:839\n",
       "show(io::IO,s::BufferStream) at stream.jl:994\n",
       "show(io::IO,ip::IPv4) at socket.jl:34\n",
       "show(io::IO,ip::IPv6) at socket.jl:88\n",
       "show(io::IO,sock::TCPSocket) at socket.jl:332\n",
       "show(io::IO,sock::Base.TCPServer) at socket.jl:335\n",
       "show(io::IO,st::StatStruct) at stat.jl:31\n",
       "show(io::IO,cmd::Cmd) at process.jl:33\n",
       "show(io::IO,cmds::Union(Base.OrCmds,Base.ErrOrCmds)) at process.jl:51\n",
       "show(io::IO,cmds::Base.AndCmds) at process.jl:60\n",
       "show(io::IO,cr::Base.CmdRedirect) at process.jl:101\n",
       "show(io::IO,p::Base.Process) at process.jl:601\n",
       "show{mime}(io::IO,::Base.Multimedia.MIME{mime}) at multimedia.jl:16\n",
       "show(io::IO,b::Base.MPFR.BigFloat) at mpfr.jl:787\n",
       "show(io::IO,x::FloatingPoint) at grisu.jl:113\n",
       "show(io::IO,m::Method) at methodshow.jl:35\n",
       "show(io::IO,mt::MethodTable) at methodshow.jl:74\n",
       "show(io::IO,v::VersionNumber) at version.jl:57\n",
       "show(io::IO,x::Base.GMP.BigInt) at gmp.jl:497\n",
       "show(io::IO,u::Base.Random.UUID) at random.jl:1198\n",
       "show{#1556#E<:Base.WorkerState}(::IO,::#1556#E<:Base.WorkerState) at Enums.jl:111\n",
       "show(io::IO,manager::Base.SSHManager) at managers.jl:77\n",
       "show(io::IO,manager::Base.LocalManager) at managers.jl:178\n",
       "show(io::IO,x::Base.LineEdit.Prompt) at LineEdit.jl:47\n",
       "show{T,S<:AbstractArray{T,2},UpLo}(io::IO,C::Base.LinAlg.Cholesky{T,S<:AbstractArray{T,2},UpLo}) at linalg/cholesky.jl:190\n",
       "show(io::IO,J::Base.LinAlg.UniformScaling{T<:Number}) at linalg/uniformscaling.jl:14\n",
       "show(io::IO,f::Base.SparseMatrix.UMFPACK.UmfpackLU{Tv<:Union(Complex{Float64},Float64),Ti<:Union(Int64,Int32)}) at sparse/umfpack.jl:117\n",
       "show(io::IO,F::Base.SparseMatrix.CHOLMOD.Factor{Tv,Ti}) at sparse/cholmod.jl:888\n",
       "show(io::IO,info::Base.Sys.CPUinfo) at sysinfo.jl:54\n",
       "show(io::IO,info::Base.Sys.CPUinfo,header::Bool) at sysinfo.jl:54\n",
       "show(io::IO,info::Base.Sys.CPUinfo,header::Bool,prefix::AbstractString) at sysinfo.jl:54\n",
       "show{sym}(io::IO,x::MathConst{sym}) at constants.jl:5\n",
       "show(io::IO,i::Base.Pkg.Types.VersionInterval) at pkg/types.jl:13\n",
       "show(io::IO,s::Base.Pkg.Types.VersionSet) at pkg/types.jl:36\n",
       "show(io::IO,a::Base.Pkg.Types.Available) at pkg/types.jl:69\n",
       "show(io::IO,f::Base.Pkg.Types.Fixed) at pkg/types.jl:81\n",
       "show(io::IO,x::Base.Dates.Period) at dates/periods.jl:24\n",
       "show(io::IO,x::Base.Dates.CompoundPeriod) at dates/periods.jl:192\n",
       "show(io::IO,df::Base.Dates.DateFunction) at dates/adjusters.jl:73\n",
       "show(io::IO,x::Base.Dates.DateTime) at dates/io.jl:14\n",
       "show(io::IO,x::Base.Dates.Date) at dates/io.jl:22\n",
       "show(io::IO,blk::DataStructures.DequeBlock{T}) at /Users/simon/.julia/v0.4/DataStructures/src/deque.jl:46\n",
       "show(io::IO,q::DataStructures.Deque{T}) at /Users/simon/.julia/v0.4/DataStructures/src/deque.jl:139\n",
       "show(io::IO,h::DataStructures.MutableBinaryHeap{VT,Comp}) at /Users/simon/.julia/v0.4/DataStructures/src/heaps/mutable_binary_heap.jl:177\n",
       "show(io::IO,s::DataStructures.OrderedSet{T}) at /Users/simon/.julia/v0.4/DataStructures/src/orderedset.jl:18\n",
       "show{T}(io::IO,l::DataStructures.LinkedList{T}) at /Users/simon/.julia/v0.4/DataStructures/src/list.jl:20\n",
       "show{T<:Nettle.HashAlgorithm}(io::IO,::Nettle.HashState{T<:Nettle.HashAlgorithm}) at /Users/simon/.julia/v0.4/Nettle/src/hash.jl:104\n",
       "show{T<:Nettle.HashAlgorithm}(io::IO,::Nettle.HMACState{T<:Nettle.HashAlgorithm}) at /Users/simon/.julia/v0.4/Nettle/src/hmac.jl:16\n",
       "show(io::IO,msg::IJulia.Msg) at /Users/simon/.julia/v0.4/IJulia/src/msg.jl:40\n",
       "show(io::IO,p::Types.Polar) at In[19]:2\n",
       "show(io::IO,p::Types.Cartesian) at In[21]:1\n",
       "show(io::IO,x::ANY) at show.jl:6\n",
       "show(x) at show.jl:1"
      ]
     },
     "execution_count": 23,
     "metadata": {},
     "output_type": "execute_result"
    }
   ],
   "source": [
    "methods(Base.show)"
   ]
  },
  {
   "cell_type": "code",
   "execution_count": 24,
   "metadata": {
    "collapsed": true
   },
   "outputs": [],
   "source": [
    "using PyPlot"
   ]
  },
  {
   "cell_type": "code",
   "execution_count": 25,
   "metadata": {
    "collapsed": false
   },
   "outputs": [
    {
     "data": {
      "text/html": [
       "1 method for generic function <b>plot</b>:<ul><li> plot(args...) at <a href=\"file:///Users/simon/.julia/v0.4/PyPlot/src/PyPlot.jl\" target=\"_blank\">/Users/simon/.julia/v0.4/PyPlot/src/PyPlot.jl:368</a></ul>"
      ],
      "text/plain": [
       "# 1 method for generic function \"plot\":\n",
       "plot(args...) at /Users/simon/.julia/v0.4/PyPlot/src/PyPlot.jl:368"
      ]
     },
     "execution_count": 25,
     "metadata": {},
     "output_type": "execute_result"
    }
   ],
   "source": [
    "methods(plot)"
   ]
  },
  {
   "cell_type": "code",
   "execution_count": 26,
   "metadata": {
    "collapsed": false
   },
   "outputs": [
    {
     "data": {
      "image/png": "[encoded data removed]",
      "text/plain": [
       "PyPlot.Figure(PyObject <matplotlib.figure.Figure object at 0x3215d74d0>)"
      ]
     },
     "metadata": {},
     "output_type": "display_data"
    },
    {
     "data": {
      "text/plain": [
       "1-element Array{Any,1}:\n",
       " PyObject <matplotlib.lines.Line2D object at 0x3217c2510>"
      ]
     },
     "execution_count": 26,
     "metadata": {},
     "output_type": "execute_result"
    }
   ],
   "source": [
    "t=linspace(-10,10,1000)\n",
    "plot(t, sin(t))"
   ]
  },
  {
   "cell_type": "code",
   "execution_count": 27,
   "metadata": {
    "collapsed": false
   },
   "outputs": [
    {
     "data": {
      "text/plain": [
       "plot (generic function with 2 methods)"
      ]
     },
     "execution_count": 27,
     "metadata": {},
     "output_type": "execute_result"
    }
   ],
   "source": [
    "function PyPlot.plot(points::Vector{Types.Cartesian})\n",
    "    x = [point.x for point in points]\n",
    "    y = [point.y for point in points]\n",
    "    scatter(x, y)\n",
    "end\n"
   ]
  },
  {
   "cell_type": "code",
   "execution_count": 28,
   "metadata": {
    "collapsed": false
   },
   "outputs": [
    {
     "data": {
      "image/png": "[encoded data removed]",
      "text/plain": [
       "PyPlot.Figure(PyObject <matplotlib.figure.Figure object at 0x31edcf850>)"
      ]
     },
     "metadata": {},
     "output_type": "display_data"
    },
    {
     "data": {
      "text/plain": [
       "PyObject <matplotlib.collections.PathCollection object at 0x3217f4590>"
      ]
     },
     "execution_count": 28,
     "metadata": {},
     "output_type": "execute_result"
    }
   ],
   "source": [
    "plot([Types.Cartesian(1,2), Types.Cartesian(3,4)])"
   ]
  },
  {
   "cell_type": "code",
   "execution_count": 29,
   "metadata": {
    "collapsed": false
   },
   "outputs": [
    {
     "data": {
      "text/plain": [
       "plot (generic function with 3 methods)"
      ]
     },
     "execution_count": 29,
     "metadata": {},
     "output_type": "execute_result"
    }
   ],
   "source": [
    "function PyPlot.plot{T<:Types.Point}(points::Vector{T}) \n",
    "    n_points = length(points)\n",
    "    x = Array(Float64, n_points)\n",
    "    y = Array(Float64, n_points)\n",
    "    for i in 1:n_points\n",
    "        point = to_cartesian(points[i])\n",
    "        x[i] = point.x\n",
    "        y[i] = point.y\n",
    "    end\n",
    "    scatter(x,y)\n",
    "end"
   ]
  },
  {
   "cell_type": "code",
   "execution_count": 30,
   "metadata": {
    "collapsed": false
   },
   "outputs": [
    {
     "data": {
      "image/png": "[encoded data removed]",
      "text/plain": [
       "PyPlot.Figure(PyObject <matplotlib.figure.Figure object at 0x3217d8e90>)"
      ]
     },
     "metadata": {},
     "output_type": "display_data"
    },
    {
     "data": {
      "text/plain": [
       "PyObject <matplotlib.collections.PathCollection object at 0x321b94b90>"
      ]
     },
     "execution_count": 30,
     "metadata": {},
     "output_type": "execute_result"
    }
   ],
   "source": [
    "plot([Types.Polar(1, pi/4), Types.Polar(2, pi/2), Types.Cartesian(.5, 1.5)])"
   ]
  },
  {
   "cell_type": "code",
   "execution_count": 37,
   "metadata": {
    "collapsed": false
   },
   "outputs": [
    {
     "ename": "LoadError",
     "evalue": "LoadError: AssertionError: 1 + 2 == 5\nwhile loading In[37], in expression starting on line 1",
     "output_type": "error",
     "traceback": [
      "LoadError: AssertionError: 1 + 2 == 5\nwhile loading In[37], in expression starting on line 1",
      ""
     ]
    }
   ],
   "source": [
    "@assert 1+2==5"
   ]
  }
 ],
 "metadata": {
  "kernelspec": {
   "display_name": "Julia 0.4.0-dev",
   "language": "julia",
   "name": "julia 0.4"
  },
  "language_info": {
   "name": "julia",
   "version": "0.4.0"
  }
 },
 "nbformat": 4,
 "nbformat_minor": 0
}
